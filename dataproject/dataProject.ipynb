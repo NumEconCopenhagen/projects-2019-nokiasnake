{
 "cells": [
  {
   "cell_type": "markdown",
   "metadata": {},
   "source": [
    "# **Municipality Budget Planning**\n",
    "\n",
    "In this project we seek to analyse the surplus per capita in budgeting for the Danish municipalities. By use of data from Statistics Denmark we seek to find any pattern between the budgeted and actual net expenditure for the municipalities. We further examine if population size has any influence on the municipalities estimates for expenditure."
   ]
  },
  {
   "cell_type": "markdown",
   "metadata": {},
   "source": [
    "To analyse our problem, we make use of several python packages, which we import in the code below."
   ]
  },
  {
   "cell_type": "code",
   "execution_count": 2,
   "metadata": {},
   "outputs": [],
   "source": [
    "#needed for matplotlib to function in notebook\n",
    "%matplotlib inline\n",
    "\n",
    "#import packages\n",
    "import numpy as np\n",
    "import pandas as pd\n",
    "import pydst\n",
    "import matplotlib.pyplot as plt\n",
    "import scipy.stats\n",
    "from pandas_datareader import wb\n",
    "import ipywidgets as  widgets\n",
    "\n",
    "\n",
    "#import class from local file\n",
    "from NokiaSnakeClient import graphwindow  \n",
    "from dataproject.plotter import PlotterWindow\n",
    "\n",
    "#setting default language for DST api\n",
    "Dst = pydst.Dst(lang='en')"
   ]
  },
  {
   "cell_type": "markdown",
   "metadata": {},
   "source": [
    "## **Data sorting**\n",
    "\n",
    "In order to examine our topic, we retrieve data from the DST api. We get data from the tables REGK11, BUDK1 and INDAMP01.\n",
    "we use REGK11 to get accounting data for all municipalities in Denmark. The data is registered at the end of the year. REGK11 covers the period 2011-2018.\n",
    "BUDK1 is used to get budget data for all municipalities in Denmark. The data is registered at the beginning of the year and covers the period 2009-2019.\n",
    "We use INDAMP01 to get population data to examine our problem. the population is registered 1st of January and the table covers the period 2006-2017.\n",
    "\n",
    "When fetching data from the DST api we restrict it to only include current prices per capita, total main account and current expenditure for BUDK1 and REGK11, while the data from INDAMP01 is restricted to include all people across gender, age, etc.\n",
    "\n",
    "In order to follow the data sorting and cleaning throughout the paper, we'll include account.head() to demonstrate the changes on the table"
   ]
  },
  {
   "cell_type": "code",
   "execution_count": 3,
   "metadata": {},
   "outputs": [],
   "source": [
    "#fetching data from DST api with pydst package\n",
    "account = Dst.get_data(table_id = \"REGK11\", variables = {\"OMRÅDE\": [\"*\"], \"FUNK1\": [\"X\"], \"DRANST\": [\"1\"], \"ART\": [\"TOT\"], \"PRISENHED\": [\"INDL\"], \"Tid\": [\"*\"]})\n",
    "budget = Dst.get_data(table_id = \"BUDK1\", variables = {\"REGI07A\": [\"*\"], \"FUNK1\": [\"X\"], \"DRANST\": [\"1\"], \"ART\": [\"TOT\"], \"PRISENHED\": [\"INDL\"], \"Tid\": [\"*\"]})\n",
    "population = Dst.get_data(table_id = \"INDAMP01\", variables = {\"OMRÅDE\": [\"*\"], \"KØN\": [\"TOT\"], \"ALDER\": [\"TOT\"], \"PERSG\": [\"IALT\"], \"Tid\": [\"*\"], \"BNØGLE\": [\"PER\"]})\n",
    "unemployment = Dst.get_data(table_id = \"AULP01\", variables = {\"OMRÅDE\": [\"*\"], \"KØN\": [\"TOT\"], \"ALDER\": [\"TOT\"],\"Tid\": [\"*\"],})\n",
    "employment = pd.read_csv(\"./Employment.csv\")"
   ]
  },
  {
   "cell_type": "code",
   "execution_count": 4,
   "metadata": {},
   "outputs": [
    {
     "data": {
      "text/html": [
       "<div>\n",
       "<style scoped>\n",
       "    .dataframe tbody tr th:only-of-type {\n",
       "        vertical-align: middle;\n",
       "    }\n",
       "\n",
       "    .dataframe tbody tr th {\n",
       "        vertical-align: top;\n",
       "    }\n",
       "\n",
       "    .dataframe thead th {\n",
       "        text-align: right;\n",
       "    }\n",
       "</style>\n",
       "<table border=\"1\" class=\"dataframe\">\n",
       "  <thead>\n",
       "    <tr style=\"text-align: right;\">\n",
       "      <th></th>\n",
       "      <th>Område</th>\n",
       "      <th>2008</th>\n",
       "      <th>2009</th>\n",
       "      <th>2010</th>\n",
       "      <th>2011</th>\n",
       "      <th>2012</th>\n",
       "      <th>2013</th>\n",
       "      <th>2014</th>\n",
       "      <th>2015</th>\n",
       "      <th>2016</th>\n",
       "      <th>2017</th>\n",
       "    </tr>\n",
       "  </thead>\n",
       "  <tbody>\n",
       "    <tr>\n",
       "      <th>0</th>\n",
       "      <td>Hele landet</td>\n",
       "      <td>2844814</td>\n",
       "      <td>2725724</td>\n",
       "      <td>2704542</td>\n",
       "      <td>2698418</td>\n",
       "      <td>2684840</td>\n",
       "      <td>2693948</td>\n",
       "      <td>2719840</td>\n",
       "      <td>2759409</td>\n",
       "      <td>2805073</td>\n",
       "      <td>2848333</td>\n",
       "    </tr>\n",
       "    <tr>\n",
       "      <th>1</th>\n",
       "      <td>Region Hovedstaden</td>\n",
       "      <td>870937</td>\n",
       "      <td>848342</td>\n",
       "      <td>846676</td>\n",
       "      <td>852815</td>\n",
       "      <td>856717</td>\n",
       "      <td>866553</td>\n",
       "      <td>878625</td>\n",
       "      <td>898268</td>\n",
       "      <td>915226</td>\n",
       "      <td>930922</td>\n",
       "    </tr>\n",
       "    <tr>\n",
       "      <th>2</th>\n",
       "      <td>Landsdel Byen København</td>\n",
       "      <td>362129</td>\n",
       "      <td>356491</td>\n",
       "      <td>359345</td>\n",
       "      <td>365796</td>\n",
       "      <td>371764</td>\n",
       "      <td>379503</td>\n",
       "      <td>387272</td>\n",
       "      <td>398661</td>\n",
       "      <td>408803</td>\n",
       "      <td>418783</td>\n",
       "    </tr>\n",
       "    <tr>\n",
       "      <th>3</th>\n",
       "      <td>København</td>\n",
       "      <td>283296</td>\n",
       "      <td>278851</td>\n",
       "      <td>281499</td>\n",
       "      <td>286942</td>\n",
       "      <td>292167</td>\n",
       "      <td>299176</td>\n",
       "      <td>305993</td>\n",
       "      <td>316098</td>\n",
       "      <td>325504</td>\n",
       "      <td>334978</td>\n",
       "    </tr>\n",
       "    <tr>\n",
       "      <th>4</th>\n",
       "      <td>Frederiksberg</td>\n",
       "      <td>51090</td>\n",
       "      <td>50722</td>\n",
       "      <td>51090</td>\n",
       "      <td>51838</td>\n",
       "      <td>52482</td>\n",
       "      <td>52910</td>\n",
       "      <td>53567</td>\n",
       "      <td>54524</td>\n",
       "      <td>54880</td>\n",
       "      <td>55277</td>\n",
       "    </tr>\n",
       "  </tbody>\n",
       "</table>\n",
       "</div>"
      ],
      "text/plain": [
       "                    Område     2008     2009     2010     2011     2012  \\\n",
       "0              Hele landet  2844814  2725724  2704542  2698418  2684840   \n",
       "1       Region Hovedstaden   870937   848342   846676   852815   856717   \n",
       "2  Landsdel Byen København   362129   356491   359345   365796   371764   \n",
       "3                København   283296   278851   281499   286942   292167   \n",
       "4            Frederiksberg    51090    50722    51090    51838    52482   \n",
       "\n",
       "      2013     2014     2015     2016     2017  \n",
       "0  2693948  2719840  2759409  2805073  2848333  \n",
       "1   866553   878625   898268   915226   930922  \n",
       "2   379503   387272   398661   408803   418783  \n",
       "3   299176   305993   316098   325504   334978  \n",
       "4    52910    53567    54524    54880    55277  "
      ]
     },
     "execution_count": 4,
     "metadata": {},
     "output_type": "execute_result"
    }
   ],
   "source": [
    "employment.head()"
   ]
  },
  {
   "cell_type": "markdown",
   "metadata": {},
   "source": [
    "We have several columns in our data which have no use in our analysis. They are therefore dropped. Further, we rename the columns to get more appropriate names"
   ]
  },
  {
   "cell_type": "code",
   "execution_count": 4,
   "metadata": {},
   "outputs": [
    {
     "data": {
      "text/html": [
       "<div>\n",
       "<style scoped>\n",
       "    .dataframe tbody tr th:only-of-type {\n",
       "        vertical-align: middle;\n",
       "    }\n",
       "\n",
       "    .dataframe tbody tr th {\n",
       "        vertical-align: top;\n",
       "    }\n",
       "\n",
       "    .dataframe thead th {\n",
       "        text-align: right;\n",
       "    }\n",
       "</style>\n",
       "<table border=\"1\" class=\"dataframe\">\n",
       "  <thead>\n",
       "    <tr style=\"text-align: right;\">\n",
       "      <th></th>\n",
       "      <th>Municipality</th>\n",
       "      <th>Year</th>\n",
       "      <th>Unemployment rate</th>\n",
       "    </tr>\n",
       "  </thead>\n",
       "  <tbody>\n",
       "    <tr>\n",
       "      <th>0</th>\n",
       "      <td>All Denmark</td>\n",
       "      <td>2010</td>\n",
       "      <td>6.1</td>\n",
       "    </tr>\n",
       "    <tr>\n",
       "      <th>1</th>\n",
       "      <td>Province Byen København</td>\n",
       "      <td>2010</td>\n",
       "      <td>7.1</td>\n",
       "    </tr>\n",
       "    <tr>\n",
       "      <th>2</th>\n",
       "      <td>Province Københavns omegn</td>\n",
       "      <td>2010</td>\n",
       "      <td>5.5</td>\n",
       "    </tr>\n",
       "    <tr>\n",
       "      <th>3</th>\n",
       "      <td>Province Nordsjælland</td>\n",
       "      <td>2010</td>\n",
       "      <td>4.5</td>\n",
       "    </tr>\n",
       "    <tr>\n",
       "      <th>4</th>\n",
       "      <td>Province Bornholm</td>\n",
       "      <td>2010</td>\n",
       "      <td>8.1</td>\n",
       "    </tr>\n",
       "  </tbody>\n",
       "</table>\n",
       "</div>"
      ],
      "text/plain": [
       "                Municipality  Year  Unemployment rate\n",
       "0                All Denmark  2010                6.1\n",
       "1    Province Byen København  2010                7.1\n",
       "2  Province Københavns omegn  2010                5.5\n",
       "3      Province Nordsjælland  2010                4.5\n",
       "4          Province Bornholm  2010                8.1"
      ]
     },
     "execution_count": 4,
     "metadata": {},
     "output_type": "execute_result"
    }
   ],
   "source": [
    "#drop unneeded columns\n",
    "account.drop([\"FUNK1\", \"DRANST\", \"ART\", \"PRISENHED\"], axis=1, inplace=True)\n",
    "budget.drop([\"FUNK1\", \"DRANST\", \"ART\", \"PRISENHED\"], axis=1, inplace=True)\n",
    "population.drop([\"KØN\", \"ALDER\", \"PERSG\", \"BNØGLE\"], axis=1, inplace=True)\n",
    "unemployment.drop([\"KØN\", \"ALDER\"], axis=1, inplace=True)\n",
    "\n",
    "#renaming columns\n",
    "budget.rename(columns = {\"REGI07A\":\"Municipality\", \"TID\": \"Year\", \"INDHOLD\":\"Budget\"}, inplace = True)\n",
    "account.rename(columns = {\"OMRÅDE\":\"Municipality\", \"TID\": \"Year\", \"INDHOLD\":\"Account\"}, inplace = True)\n",
    "population.rename(columns = {\"OMRÅDE\":\"Municipality\", \"TID\": \"Year\", \"INDHOLD\":\"POP\"}, inplace = True)\n",
    "unemployment.rename(columns = {\"OMRÅDE\":\"Municipality\", \"TID\": \"Year\", \"INDHOLD\":\"Unemployment rate\"}, inplace = True)\n",
    "unemployment.head()"
   ]
  },
  {
   "cell_type": "markdown",
   "metadata": {},
   "source": [
    "Our three dataframes do not share the same dimensions and cannot be merged. We have to further clean the dataframes before we can make our analysis"
   ]
  },
  {
   "cell_type": "code",
   "execution_count": 5,
   "metadata": {},
   "outputs": [
    {
     "name": "stdout",
     "output_type": "stream",
     "text": [
      "<class 'pandas.core.frame.DataFrame'>\n",
      "RangeIndex: 1144 entries, 0 to 1143\n",
      "Data columns (total 3 columns):\n",
      "Municipality    1144 non-null object\n",
      "Year            1144 non-null int64\n",
      "Budget          1144 non-null int64\n",
      "dtypes: int64(2), object(1)\n",
      "memory usage: 26.9+ KB\n",
      "<class 'pandas.core.frame.DataFrame'>\n",
      "RangeIndex: 832 entries, 0 to 831\n",
      "Data columns (total 3 columns):\n",
      "Municipality    832 non-null object\n",
      "Year            832 non-null int64\n",
      "Account         832 non-null int64\n",
      "dtypes: int64(2), object(1)\n",
      "memory usage: 19.6+ KB\n",
      "<class 'pandas.core.frame.DataFrame'>\n",
      "RangeIndex: 1380 entries, 0 to 1379\n",
      "Data columns (total 3 columns):\n",
      "Municipality    1380 non-null object\n",
      "Year            1380 non-null int64\n",
      "POP             1380 non-null int64\n",
      "dtypes: int64(2), object(1)\n",
      "memory usage: 32.4+ KB\n",
      "<class 'pandas.core.frame.DataFrame'>\n",
      "RangeIndex: 1380 entries, 0 to 1379\n",
      "Data columns (total 3 columns):\n",
      "Municipality         1380 non-null object\n",
      "Year                 1380 non-null int64\n",
      "Unemployment rate    1380 non-null float64\n",
      "dtypes: float64(1), int64(1), object(1)\n",
      "memory usage: 32.4+ KB\n"
     ]
    }
   ],
   "source": [
    "budget.info()\n",
    "account.info()\n",
    "population.info()\n",
    "unemployment.info()"
   ]
  },
  {
   "cell_type": "markdown",
   "metadata": {},
   "source": [
    "In order to make our dataframes comparable, we remove all entries for non-municipalities. We further restrict the time periods for our data to the period 2011-2017."
   ]
  },
  {
   "cell_type": "code",
   "execution_count": 6,
   "metadata": {},
   "outputs": [],
   "source": [
    "#dropping rows for region, province and all Denmark\n",
    "for val in [\"Region\", \"Province\", \"All Denmark\"]:\n",
    "    for dataset in [population, budget, account,unemployment]:\n",
    "        rowstodrop = dataset.loc[dataset[\"Municipality\"].str.contains(val)].index\n",
    "        dataset.drop(rowstodrop, axis=0, inplace=True)\n",
    "\n",
    "#create list with time period\n",
    "a = []\n",
    "for i in range(2011,2018):\n",
    "    a.append(str(i))\n",
    "\n",
    "#limit data to time period a\n",
    "budget = budget.loc[budget[\"Year\"].isin(a)]\n",
    "population = population.loc[population[\"Year\"].isin(a)]\n",
    "account = account.loc[account[\"Year\"].isin(a)]\n",
    "unemployment = unemployment.loc[unemployment[\"Year\"].isin(a)]"
   ]
  },
  {
   "cell_type": "code",
   "execution_count": 7,
   "metadata": {},
   "outputs": [
    {
     "name": "stdout",
     "output_type": "stream",
     "text": [
      "<class 'pandas.core.frame.DataFrame'>\n",
      "Int64Index: 686 entries, 0 to 888\n",
      "Data columns (total 3 columns):\n",
      "Municipality    686 non-null object\n",
      "Year            686 non-null int64\n",
      "Budget          686 non-null int64\n",
      "dtypes: int64(2), object(1)\n",
      "memory usage: 21.4+ KB\n",
      "<class 'pandas.core.frame.DataFrame'>\n",
      "Int64Index: 686 entries, 0 to 1378\n",
      "Data columns (total 3 columns):\n",
      "Municipality    686 non-null object\n",
      "Year            686 non-null int64\n",
      "POP             686 non-null int64\n",
      "dtypes: int64(2), object(1)\n",
      "memory usage: 21.4+ KB\n",
      "<class 'pandas.core.frame.DataFrame'>\n",
      "Int64Index: 686 entries, 0 to 831\n",
      "Data columns (total 3 columns):\n",
      "Municipality    686 non-null object\n",
      "Year            686 non-null int64\n",
      "Account         686 non-null int64\n",
      "dtypes: int64(2), object(1)\n",
      "memory usage: 21.4+ KB\n",
      "<class 'pandas.core.frame.DataFrame'>\n",
      "Int64Index: 686 entries, 183 to 1379\n",
      "Data columns (total 3 columns):\n",
      "Municipality         686 non-null object\n",
      "Year                 686 non-null int64\n",
      "Unemployment rate    686 non-null float64\n",
      "dtypes: float64(1), int64(1), object(1)\n",
      "memory usage: 21.4+ KB\n"
     ]
    }
   ],
   "source": [
    "budget.info()\n",
    "population.info()\n",
    "account.info()\n",
    "unemployment.info()"
   ]
  },
  {
   "cell_type": "markdown",
   "metadata": {},
   "source": [
    "As seen from the .info() our dataframes have the same dimensions and we are able to merge them. We do an outer merge in two stages. First, we merge people and account as the partialmerge dataframe. We then merge partialmerge with budget."
   ]
  },
  {
   "cell_type": "code",
   "execution_count": 8,
   "metadata": {},
   "outputs": [
    {
     "data": {
      "text/html": [
       "<div>\n",
       "<style scoped>\n",
       "    .dataframe tbody tr th:only-of-type {\n",
       "        vertical-align: middle;\n",
       "    }\n",
       "\n",
       "    .dataframe tbody tr th {\n",
       "        vertical-align: top;\n",
       "    }\n",
       "\n",
       "    .dataframe thead th {\n",
       "        text-align: right;\n",
       "    }\n",
       "</style>\n",
       "<table border=\"1\" class=\"dataframe\">\n",
       "  <thead>\n",
       "    <tr style=\"text-align: right;\">\n",
       "      <th></th>\n",
       "      <th>Municipality</th>\n",
       "      <th>Year</th>\n",
       "      <th>POP</th>\n",
       "      <th>Account</th>\n",
       "      <th>Unemployment rate</th>\n",
       "      <th>Budget</th>\n",
       "    </tr>\n",
       "  </thead>\n",
       "  <tbody>\n",
       "    <tr>\n",
       "      <th>0</th>\n",
       "      <td>Holbæk</td>\n",
       "      <td>2011</td>\n",
       "      <td>69521</td>\n",
       "      <td>61203</td>\n",
       "      <td>5.3</td>\n",
       "      <td>61099</td>\n",
       "    </tr>\n",
       "    <tr>\n",
       "      <th>1</th>\n",
       "      <td>Faxe</td>\n",
       "      <td>2011</td>\n",
       "      <td>35277</td>\n",
       "      <td>59814</td>\n",
       "      <td>6.3</td>\n",
       "      <td>59963</td>\n",
       "    </tr>\n",
       "    <tr>\n",
       "      <th>2</th>\n",
       "      <td>Kalundborg</td>\n",
       "      <td>2011</td>\n",
       "      <td>49088</td>\n",
       "      <td>66668</td>\n",
       "      <td>6.4</td>\n",
       "      <td>66307</td>\n",
       "    </tr>\n",
       "    <tr>\n",
       "      <th>3</th>\n",
       "      <td>Ringsted</td>\n",
       "      <td>2011</td>\n",
       "      <td>32890</td>\n",
       "      <td>61444</td>\n",
       "      <td>5.9</td>\n",
       "      <td>62650</td>\n",
       "    </tr>\n",
       "    <tr>\n",
       "      <th>4</th>\n",
       "      <td>Slagelse</td>\n",
       "      <td>2011</td>\n",
       "      <td>77442</td>\n",
       "      <td>63393</td>\n",
       "      <td>8.0</td>\n",
       "      <td>63924</td>\n",
       "    </tr>\n",
       "  </tbody>\n",
       "</table>\n",
       "</div>"
      ],
      "text/plain": [
       "  Municipality  Year    POP  Account  Unemployment rate  Budget\n",
       "0       Holbæk  2011  69521    61203                5.3   61099\n",
       "1         Faxe  2011  35277    59814                6.3   59963\n",
       "2   Kalundborg  2011  49088    66668                6.4   66307\n",
       "3     Ringsted  2011  32890    61444                5.9   62650\n",
       "4     Slagelse  2011  77442    63393                8.0   63924"
      ]
     },
     "execution_count": 8,
     "metadata": {},
     "output_type": "execute_result"
    }
   ],
   "source": [
    "#merge datasets\n",
    "firstmerge = pd.merge(population, account, how=\"outer\", on=[\"Municipality\", \"Year\"])\n",
    "partialmerge = pd.merge(firstmerge, unemployment, how=\"outer\", on=[\"Municipality\", \"Year\"])\n",
    "fullymerged = pd.merge(partialmerge, budget, how=\"outer\", on=[\"Municipality\", \"Year\"])\n",
    "fullymerged.head()"
   ]
  },
  {
   "cell_type": "markdown",
   "metadata": {},
   "source": [
    "We want to compute the surplus, which we define as the difference between the budgeted and actual net expenses. We add the column named surplus to our dataframe fullymerged.\n",
    "\n",
    "in the .head() we chose to look at Aalborg municipality to verify the accuracy of the computation"
   ]
  },
  {
   "cell_type": "code",
   "execution_count": 9,
   "metadata": {},
   "outputs": [
    {
     "data": {
      "text/html": [
       "<div>\n",
       "<style scoped>\n",
       "    .dataframe tbody tr th:only-of-type {\n",
       "        vertical-align: middle;\n",
       "    }\n",
       "\n",
       "    .dataframe tbody tr th {\n",
       "        vertical-align: top;\n",
       "    }\n",
       "\n",
       "    .dataframe thead th {\n",
       "        text-align: right;\n",
       "    }\n",
       "</style>\n",
       "<table border=\"1\" class=\"dataframe\">\n",
       "  <thead>\n",
       "    <tr style=\"text-align: right;\">\n",
       "      <th></th>\n",
       "      <th>Municipality</th>\n",
       "      <th>Year</th>\n",
       "      <th>POP</th>\n",
       "      <th>Account</th>\n",
       "      <th>Unemployment rate</th>\n",
       "      <th>Budget</th>\n",
       "      <th>Surplus</th>\n",
       "    </tr>\n",
       "  </thead>\n",
       "  <tbody>\n",
       "    <tr>\n",
       "      <th>63</th>\n",
       "      <td>Aalborg</td>\n",
       "      <td>2011</td>\n",
       "      <td>199188</td>\n",
       "      <td>61958</td>\n",
       "      <td>6.4</td>\n",
       "      <td>62758</td>\n",
       "      <td>800</td>\n",
       "    </tr>\n",
       "    <tr>\n",
       "      <th>161</th>\n",
       "      <td>Aalborg</td>\n",
       "      <td>2012</td>\n",
       "      <td>201142</td>\n",
       "      <td>64535</td>\n",
       "      <td>6.3</td>\n",
       "      <td>65523</td>\n",
       "      <td>988</td>\n",
       "    </tr>\n",
       "    <tr>\n",
       "      <th>259</th>\n",
       "      <td>Aalborg</td>\n",
       "      <td>2013</td>\n",
       "      <td>203448</td>\n",
       "      <td>60966</td>\n",
       "      <td>6.0</td>\n",
       "      <td>61530</td>\n",
       "      <td>564</td>\n",
       "    </tr>\n",
       "    <tr>\n",
       "      <th>390</th>\n",
       "      <td>Aalborg</td>\n",
       "      <td>2014</td>\n",
       "      <td>205809</td>\n",
       "      <td>60002</td>\n",
       "      <td>6.0</td>\n",
       "      <td>60343</td>\n",
       "      <td>341</td>\n",
       "    </tr>\n",
       "    <tr>\n",
       "      <th>488</th>\n",
       "      <td>Aalborg</td>\n",
       "      <td>2015</td>\n",
       "      <td>207805</td>\n",
       "      <td>60893</td>\n",
       "      <td>5.9</td>\n",
       "      <td>60157</td>\n",
       "      <td>-736</td>\n",
       "    </tr>\n",
       "  </tbody>\n",
       "</table>\n",
       "</div>"
      ],
      "text/plain": [
       "    Municipality  Year     POP  Account  Unemployment rate  Budget  Surplus\n",
       "63       Aalborg  2011  199188    61958                6.4   62758      800\n",
       "161      Aalborg  2012  201142    64535                6.3   65523      988\n",
       "259      Aalborg  2013  203448    60966                6.0   61530      564\n",
       "390      Aalborg  2014  205809    60002                6.0   60343      341\n",
       "488      Aalborg  2015  207805    60893                5.9   60157     -736"
      ]
     },
     "execution_count": 9,
     "metadata": {},
     "output_type": "execute_result"
    }
   ],
   "source": [
    "#creating new column\n",
    "fullymerged[\"Surplus\"] = fullymerged[\"Budget\"]-fullymerged[\"Account\"]\n",
    "\n",
    "fullymerged[fullymerged[\"Municipality\"]==\"Aalborg\"].head()"
   ]
  },
  {
   "cell_type": "markdown",
   "metadata": {},
   "source": [
    "## **Data Analysis**\n",
    "\n",
    "\n"
   ]
  },
  {
   "cell_type": "markdown",
   "metadata": {},
   "source": [
    "To start our analysis, we look at the distribution of the surplus per capita. We compare the surplus distribution with the gaussian distribution to get further insights into the data."
   ]
  },
  {
   "cell_type": "code",
   "execution_count": 10,
   "metadata": {},
   "outputs": [
    {
     "name": "stdout",
     "output_type": "stream",
     "text": [
      "Mean for Surplus: 1416.631195335277\n",
      "Std. dev. for Surplus: 1626.4433776729281\n"
     ]
    },
    {
     "data": {
      "image/png": "[encoded data removed]",
      "text/plain": [
       "<Figure size 600x400 with 1 Axes>"
      ]
     },
     "metadata": {
      "needs_background": "light"
     },
     "output_type": "display_data"
    }
   ],
   "source": [
    "#define function to draw graph type\n",
    "def surplusdistribution(data, title, printname):\n",
    "    #calculating stats for the data set\n",
    "    mean = np.mean(data[\"Surplus\"])\n",
    "    variance = np.var(data[\"Surplus\"])\n",
    "    sigma = np.sqrt(variance)\n",
    "    normal = np.linspace(min(data[\"Surplus\"]), max(data[\"Surplus\"]), 100)\n",
    "    \n",
    "    #creating a figure and adding subplots\n",
    "    fig = plt.figure(dpi=100)\n",
    "    ax = fig.add_subplot(1,1,1)\n",
    "    ax.hist(data[\"Surplus\"], density=True, bins = 100, alpha = 0.5, label = \"Surplus\")\n",
    "    ax.plot(normal, scipy.stats.norm.pdf(normal, mean, sigma), label = \"Normal\")\n",
    "    ax.set_xlabel(\"Surplus\")\n",
    "    ax.set_title(title)\n",
    "    ax.legend()\n",
    "    \n",
    "    print(\"Mean for \" + printname + \": \" + str(mean))\n",
    "    print(\"Std. dev. for \" + printname + \": \" + str(sigma))\n",
    "\n",
    "#calling function \n",
    "surplusdistribution(fullymerged,\"Surplus distribution\", \"Surplus\")\n"
   ]
  },
  {
   "cell_type": "markdown",
   "metadata": {},
   "source": [
    "From the stats and the graph, we see a clear tendency for municipalities to overestimate their expenditure for the year. The distribution has a mean of 1416 dkk per capita and seems to be skewed to the right, which further indicates the tendency to overestimate expenditure. \n",
    "\n",
    "We further want to examine a possible correlation in municipalities' surplus and the population of the municipality."
   ]
  },
  {
   "cell_type": "code",
   "execution_count": 11,
   "metadata": {},
   "outputs": [
    {
     "data": {
      "image/png": "[encoded data removed]",
      "text/plain": [
       "<Figure size 432x288 with 1 Axes>"
      ]
     },
     "metadata": {
      "needs_background": "light"
     },
     "output_type": "display_data"
    }
   ],
   "source": [
    "#create scatter plot function\n",
    "def scatterplot(data, x, y,title=\"\"):\n",
    "    plt.scatter(data[x], data[y])\n",
    "    plt.xlabel(x)\n",
    "    plt.ylabel(y)\n",
    "    plt.title(title)\n",
    "    plt.show()\n",
    "\n",
    "#calling scatterplot function for our data\n",
    "scatterplot(fullymerged, \"Surplus\", \"POP\")"
   ]
  },
  {
   "cell_type": "markdown",
   "metadata": {},
   "source": [
    "The scatter plot shows no clear correlation between population and surplus per capita in Danish municipalities. The mean for municipalities with a population above 150000 seems to be higher, while the standard deviation seems to be lower. To further examine this, we will split the data in a high population and low population dataset"
   ]
  },
  {
   "cell_type": "markdown",
   "metadata": {},
   "source": [
    "#### High vs. low population\n",
    "\n",
    "The dataset fullymerged is split into a high and low population dataset. We define any municipality with a population over 150000 people as a high population municipality. We create a surplus distribution for both datasets"
   ]
  },
  {
   "cell_type": "code",
   "execution_count": 12,
   "metadata": {},
   "outputs": [
    {
     "name": "stdout",
     "output_type": "stream",
     "text": [
      "Mean for POP > 150k: 1838.8214285714287\n",
      "Std. dev. for POP > 150k: 1515.0229855298146\n",
      "Mean for POP < 150k: 1398.6656534954407\n",
      "Std. dev. for POP < 150k: 1628.589892252984\n"
     ]
    },
    {
     "data": {
      "image/png": "[encoded data removed]",
      "text/plain": [
       "<Figure size 600x400 with 1 Axes>"
      ]
     },
     "metadata": {
      "needs_background": "light"
     },
     "output_type": "display_data"
    },
    {
     "data": {
      "image/png": "[encoded data removed]",
      "text/plain": [
       "<Figure size 600x400 with 1 Axes>"
      ]
     },
     "metadata": {
      "needs_background": "light"
     },
     "output_type": "display_data"
    }
   ],
   "source": [
    "#splitting dataset in high and low POP\n",
    "above150k = fullymerged.loc[fullymerged[\"POP\"]>150000]\n",
    "below150k = fullymerged.loc[fullymerged[\"POP\"]<=150000]\n",
    "above150k.name = \"POP > 150k\"\n",
    "below150k.name = \"POP < 150k\"\n",
    "\n",
    "#creating graphs with graph function \n",
    "for data in [above150k, below150k]:\n",
    "    surplusdistribution(data,data.name,data.name)"
   ]
  },
  {
   "cell_type": "markdown",
   "metadata": {},
   "source": [
    "As suspected from the scatter plot, high population municipalities have a higher mean and lower standard deviation compared to low population municipalities. The sample for POP>150k is rather low, and no apparent distribution takes form in the figure. The distribution for low population municipalities is nearly identical to the combined surplus per capita. The mean is a bit lower while the standard deviation is a bit higher.\n",
    "It seems municipalities with a low population on average is better at predicting their net expenditure per capita than their high population counterpart. The higher mean for high population municipalities indicates a higher inefficiency in adjusting their expectations to expenditure.\n",
    "\n",
    "we further create to scatterplots to examine for any further correlation between population and surplus per capita"
   ]
  },
  {
   "cell_type": "code",
   "execution_count": 13,
   "metadata": {},
   "outputs": [
    {
     "data": {
      "image/png": "[encoded data removed]",
      "text/plain": [
       "<Figure size 432x288 with 1 Axes>"
      ]
     },
     "metadata": {
      "needs_background": "light"
     },
     "output_type": "display_data"
    },
    {
     "data": {
      "image/png": "[encoded data removed]",
      "text/plain": [
       "<Figure size 432x288 with 1 Axes>"
      ]
     },
     "metadata": {
      "needs_background": "light"
     },
     "output_type": "display_data"
    }
   ],
   "source": [
    "#creating graphs with graph function \n",
    "for data in [above150k, below150k]:\n",
    "    scatterplot(data, \"Surplus\", \"POP\")"
   ]
  },
  {
   "cell_type": "markdown",
   "metadata": {},
   "source": [
    "We find no correlation between population and surplus per capita in the two datasets. The municipalities are randomly spread with a tendency for surplus as explained in the distribution figures."
   ]
  },
  {
   "cell_type": "markdown",
   "metadata": {},
   "source": [
    "#### Development in municipalities\n",
    "\n",
    "By use of the graphwindow class from the NokiaSnakeClient application we are able to examine the development of population and surplus in the respective municipalities over the period 2011-2017. The class opens a separate graph window when run."
   ]
  },
  {
   "cell_type": "code",
   "execution_count": null,
   "metadata": {},
   "outputs": [],
   "source": [
    "#create instance of graphwindow class, set size of window, run with mainloop()\n",
    "app = graphwindow(data=fullymerged, x=\"Year\",y=\"Surplus\",y2=\"POP\",graphnames=\"Municipality\")\n",
    "app.geometry(\"1280x720\")\n",
    "app.mainloop()"
   ]
  },
  {
   "cell_type": "code",
   "execution_count": 18,
   "metadata": {},
   "outputs": [],
   "source": [
    "app = PlotterWindow(data = fullymerged, slicename = \"Municipality\", graphtype = \"Standard\", xvariable = \"Year\", yvariablelist=[\"Surplus\", \"Unemployment rate\"])\n",
    "app.start()"
   ]
  },
  {
   "cell_type": "code",
   "execution_count": 16,
   "metadata": {},
   "outputs": [
    {
     "name": "stdout",
     "output_type": "stream",
     "text": [
      "    Municipality  Year     POP  Account  Unemployment rate  Budget  Surplus\n",
      "65    Copenhagen  2011  539542    63255                7.5   64851     1596\n",
      "163   Copenhagen  2012  549050    66149                7.6   67829     1680\n",
      "261   Copenhagen  2013  559440    63684                7.3   65429     1745\n",
      "294   Copenhagen  2014  569557    61698                6.3   64073     2375\n",
      "392   Copenhagen  2015  580184    61106                5.5   63275     2169\n",
      "490   Copenhagen  2016  591481    60449                5.0   63448     2999\n",
      "588   Copenhagen  2017  602481    60035                4.9   62802     2767\n"
     ]
    }
   ],
   "source": [
    "print(fullymerged[fullymerged['Municipality']=='Copenhagen'])"
   ]
  },
  {
   "cell_type": "markdown",
   "metadata": {},
   "source": [
    "No consistent pattern can be found between population growth and surplus per capita across municipalities. municipality of Copenhagen have a somewhat consistent surplus while having population growth, whereas Aarhus have larger deviations in surplus while also having a surplus.\n",
    "\n",
    "We encourage the reader to use the graphwindow to explore the different municipalities"
   ]
  },
  {
   "cell_type": "markdown",
   "metadata": {},
   "source": [
    "## Conclusion"
   ]
  },
  {
   "cell_type": "markdown",
   "metadata": {},
   "source": [
    "In this project we find a tendency for Danish municipalities to overestimate net expenditures per capita. With a mean of 1416 and a standard deviation of 1626 most municipalities have a positive surplus. We find no direct correlation between population and surplus per capita. There seems to be some differences between high population and low population municipalities, however the small sample size for high population municipalities makes it difficult to draw any conclusions."
   ]
  }
 ],
 "metadata": {
  "kernelspec": {
   "display_name": "Python 3",
   "language": "python",
   "name": "python3"
  },
  "language_info": {
   "codemirror_mode": {
    "name": "ipython",
    "version": 3
   },
   "file_extension": ".py",
   "mimetype": "text/x-python",
   "name": "python",
   "nbconvert_exporter": "python",
   "pygments_lexer": "ipython3",
   "version": "3.7.1"
  }
 },
 "nbformat": 4,
 "nbformat_minor": 2
}
